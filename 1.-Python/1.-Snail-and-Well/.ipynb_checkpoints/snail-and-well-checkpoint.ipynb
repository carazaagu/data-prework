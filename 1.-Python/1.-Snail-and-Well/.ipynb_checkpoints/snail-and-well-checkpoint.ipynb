{
 "cells": [
  {
   "cell_type": "markdown",
   "metadata": {},
   "source": [
    "<img src=\"https://bit.ly/2VnXWr2\" width=\"100\" align=\"left\">"
   ]
  },
  {
   "cell_type": "markdown",
   "metadata": {},
   "source": [
    "# The Snail and the Well\n",
    "\n",
    "A snail falls at the bottom of a 125 cm well. Each day the snail rises 30 cm. But at night, while sleeping, slides 20 cm because the walls are wet. How many days does it take for the snail to escape the well?\n",
    "\n",
    "**Hint**: The snail gets out of the well when it surpasses the 125cm of height.\n",
    "\n",
    "## Tools\n",
    "\n",
    "1. Loop: **while**\n",
    "2. Conditional statements: **if-else**\n",
    "3. Function: **print()**\n",
    "\n",
    "## Tasks\n",
    "\n",
    "#### 1. Assign the challenge data to variables with representative names: `well_height`, `daily_distance`, `nightly_distance` and `snail_position`."
   ]
  },
  {
   "cell_type": "code",
   "execution_count": 1,
   "metadata": {},
   "outputs": [],
   "source": [
    "well_height = 125\n",
    "daily_distance = 30\n",
    "nightly_distance = -20\n",
    "snail_position= daily_distance + nightly_distance\n"
   ]
  },
  {
   "cell_type": "markdown",
   "metadata": {},
   "source": [
    "#### 2. Create a variable days to keep count of the days that pass until the snail escapes the well."
   ]
  },
  {
   "cell_type": "code",
   "execution_count": 2,
   "metadata": {},
   "outputs": [],
   "source": [
    "days = 1\n",
    "\n"
   ]
  },
  {
   "cell_type": "markdown",
   "metadata": {},
   "source": [
    "#### 3. Find the solution to the challenge using the variables defined above. "
   ]
  },
  {
   "cell_type": "code",
   "execution_count": 3,
   "metadata": {},
   "outputs": [],
   "source": [
    "# The height to be overcome is \"well_height\".It will be the condition to be satisfied to stop looping.\n",
    "# Day wil be incresing one by one (no weekend or vacation for the snail) and starts from day 1.\n",
    "# The moment in which the snail has climbed the most the first day is before getting some sleep= variable \"daily_distance\".\n",
    "# The aditional height that will be increased each day is \"daily distance - night distance\" = variable \"snail_position\".\n",
    "# Therefore, to the distance snail has climbed before getting some sleep, we have to add the incremental distance per day. This\n",
    "# will be the distance we will compare to well height to stop looping.\n"
   ]
  },
  {
   "cell_type": "markdown",
   "metadata": {},
   "source": [
    "#### 4. Print the solution."
   ]
  },
  {
   "cell_type": "code",
   "execution_count": 4,
   "metadata": {},
   "outputs": [
    {
     "name": "stdout",
     "output_type": "stream",
     "text": [
      "Day 1 : Snail has climbed 30 cm before sleeping\n",
      "Day 2 : Snail has climbed 40 cm before sleeping\n",
      "Day 3 : Snail has climbed 50 cm before sleeping\n",
      "Day 4 : Snail has climbed 60 cm before sleeping\n",
      "Day 5 : Snail has climbed 70 cm before sleeping\n",
      "Day 6 : Snail has climbed 80 cm before sleeping\n",
      "Day 7 : Snail has climbed 90 cm before sleeping\n",
      "Day 8 : Snail has climbed 100 cm before sleeping\n",
      "Day 9 : Snail has climbed 110 cm before sleeping\n",
      "Day 10 : Snail has climbed 120 cm before sleeping\n",
      "Day 11 : Snail escaped the well\n"
     ]
    }
   ],
   "source": [
    "while daily_distance < well_height:\n",
    "    print(\"Day\", days, \":\", \"Snail has climbed\", daily_distance, \"cm before sleeping\")\n",
    "    daily_distance += snail_position\n",
    "    days +=1\n",
    "    \n",
    "print(\"Day\", days, \":\", \"Snail escaped the well\")"
   ]
  },
  {
   "cell_type": "markdown",
   "metadata": {},
   "source": [
    "## Bonus\n",
    "The distance traveled by the snail each day is now defined by a list.\n",
    "```\n",
    "advance_cm = [30, 21, 33, 77, 44, 45, 23, 45, 12, 34, 55]\n",
    "```\n",
    "On the first day, the snail rises 30cm but during the night it slides 20cm. On the second day, the snail rises 21cm but during the night it slides 20cm, and so on. \n",
    "\n",
    "#### 1. How many days does it take for the snail to escape the well?\n",
    "Follow the same guidelines as in the previous challenge.\n",
    "\n",
    "**Hint**: Remember that the snail gets out of the well when it surpasses the 125cm of height."
   ]
  },
  {
   "cell_type": "code",
   "execution_count": 5,
   "metadata": {},
   "outputs": [
    {
     "name": "stdout",
     "output_type": "stream",
     "text": [
      "Day 1 : Snail has climbed 30 cm before sleeping.\n",
      "Day 2 : Snail has climbed 31 cm before sleeping.\n",
      "Day 3 : Snail has climbed 44 cm before sleeping.\n",
      "Day 4 : Snail has climbed 101 cm before sleeping.\n",
      "Day 5 : Snail has climbed 125 cm before sleeping.\n",
      "Day 6 : Snail escaped the well\n"
     ]
    }
   ],
   "source": [
    "daily_distance = [30, 21, 33, 77, 44, 45, 23, 45, 12, 34, 55]\n",
    "nightly_distance = [ -20, -20, -20, -20, -20, -20, -20, -20, -20, -20, -20]\n",
    "days = 1\n",
    "a = 0\n",
    "first_day = 30\n",
    "\n",
    "while first_day <= well_height:\n",
    "    print (\"Day\", days, \":\", \"Snail has climbed\", first_day, \"cm before sleeping.\")\n",
    "    a += 1\n",
    "    first_day += nightly_distance[a] \n",
    "    first_day += daily_distance[a]\n",
    "    days += 1\n",
    "\n",
    "print(\"Day\", days, \":\", \"Snail escaped the well\")\n",
    "\n"
   ]
  },
  {
   "cell_type": "markdown",
   "metadata": {},
   "source": [
    "#### 2. What is its maximum displacement in one day? And its minimum? Calculate the displacement using only the travel distance of the days used to get out of the well. \n",
    "**Hint**: Remember that displacement means the total distance risen taking into account that the snail slides at night.  "
   ]
  },
  {
   "cell_type": "code",
   "execution_count": 6,
   "metadata": {},
   "outputs": [
    {
     "name": "stdout",
     "output_type": "stream",
     "text": [
      "Maximum discplacement of one day is 57 cm.\n",
      "Minimum discplacement of one day is 1 cm.\n"
     ]
    }
   ],
   "source": [
    "daily_distance = [30, 21, 33, 77, 44, 45, 23, 45, 12, 34, 55]\n",
    "nightly_distance = [ -20, -20, -20, -20, -20, -20, -20, -20, -20, -20, -20]\n",
    "days = 1\n",
    "a = 0\n",
    "first_day = 30\n",
    "displacement_day = []\n",
    "\n",
    "while first_day <= well_height:\n",
    "    displacement_day.append(daily_distance[a] + nightly_distance[a])\n",
    "    a += 1\n",
    "    first_day += nightly_distance[a] \n",
    "    first_day += daily_distance[a]\n",
    "    days += 1\n",
    "\n",
    "displacement_day.append(daily_distance[a] + nightly_distance[a])\n",
    "\n",
    "print(\"Maximum discplacement of one day is\", max(displacement_day), \"cm.\")\n",
    "print(\"Minimum discplacement of one day is\", min(displacement_day), \"cm.\")\n"
   ]
  },
  {
   "cell_type": "markdown",
   "metadata": {},
   "source": [
    "#### 3. What is its average progress? Take into account the snail slides at night."
   ]
  },
  {
   "cell_type": "code",
   "execution_count": 7,
   "metadata": {},
   "outputs": [
    {
     "name": "stdout",
     "output_type": "stream",
     "text": [
      "Average progress is 21.67 cm.\n"
     ]
    }
   ],
   "source": [
    "avg_progress= sum(displacement_day)/len(displacement_day)\n",
    "print(\"Average progress is\", round(avg_progress, 2), \"cm.\")\n"
   ]
  },
  {
   "cell_type": "markdown",
   "metadata": {},
   "source": [
    "#### 4. What is the standard deviation of its displacement? Take into account the snail slides at night."
   ]
  },
  {
   "cell_type": "code",
   "execution_count": 8,
   "metadata": {},
   "outputs": [
    {
     "name": "stdout",
     "output_type": "stream",
     "text": [
      "Standard deviation of displacement is 17.81\n"
     ]
    }
   ],
   "source": [
    "variance = 0\n",
    "\n",
    "for i in displacement_day:\n",
    "    variance += (i-avg_progress)**2\n",
    "\n",
    "st_dev_displacement = (variance/len(displacement_day))**.5\n",
    "print(\"Standard deviation of displacement is\", round(st_dev_displacement, 2))\n",
    "    "
   ]
  }
 ],
 "metadata": {
  "kernelspec": {
   "display_name": "Python 3",
   "language": "python",
   "name": "python3"
  },
  "language_info": {
   "codemirror_mode": {
    "name": "ipython",
    "version": 3
   },
   "file_extension": ".py",
   "mimetype": "text/x-python",
   "name": "python",
   "nbconvert_exporter": "python",
   "pygments_lexer": "ipython3",
   "version": "3.9.0"
  }
 },
 "nbformat": 4,
 "nbformat_minor": 2
}
