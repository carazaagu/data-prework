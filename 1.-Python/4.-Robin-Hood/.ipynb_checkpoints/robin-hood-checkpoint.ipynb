{
 "cells": [
  {
   "cell_type": "markdown",
   "metadata": {},
   "source": [
    "<img src=\"https://bit.ly/2VnXWr2\" width=\"100\" align=\"left\"/>"
   ]
  },
  {
   "cell_type": "markdown",
   "metadata": {},
   "source": [
    "# Robin Hood\n",
    "Robin Hood has entered a competition to win the archery contest in Sherwood. With his bow and arrows, he needs to shoot on a target and try to hit as close as possible to the center.\n",
    "\n",
    "![](images/arrows.jpg)\n",
    "\n",
    "## Context\n",
    "In this challenge, the landing position of arrows shot by archers in the competition will be represented using 2-dimensional coordinates. \n",
    "\n",
    "In the 2-dimensional space, a point can be defined by a pair of values that correspond to the horizontal coordinate (x) and the vertical coordinate (y). For example, in our case, an arrow that hits the center of the archery target will land in position (0, 0) on the coordinate axes. \n",
    "\n",
    "The space can be divided into 4 zones (quadrants): Q1, Q2, Q3, Q4. If a point is in Q1, both its x coordinate and y coordinate are positive. Any point with a null x or y coordinate is considered to not belong to any quadrant. \n",
    "\n",
    "If you want to know more about the cartesian coordinate system, you can check this [link](https://en.wikipedia.org/wiki/Cartesian_coordinate_system). \n",
    "\n",
    "## Tools\n",
    "You don't necessarily need to use all the tools. Maybe you opt to use some of them or completely different ones, they are given to help you shape the exercise. Programming exercises can be solved in many different ways.\n",
    "* Data structures: **lists, sets, tuples**\n",
    "* Conditional statements: **if-elif-else**\n",
    "* Loop: **while/for**\n",
    "* Minimum (optional sorting)\n",
    "\n",
    "## Tasks\n",
    "Robin Hood has hit the following points:"
   ]
  },
  {
   "cell_type": "code",
   "execution_count": 1,
   "metadata": {},
   "outputs": [],
   "source": [
    "points = [(4, 5), (-0, 2), (4, 7), (1, -3), (3, -2), (4, 5), (3, 2), (5, 7), (-5, 7), (2, 2), (-4, 5), (0, -2),\n",
    "          (-4, 7), (-1, 3), (-3, 2), (-4, -5), (-3, 2), (5, 7), (5, 7), (2, 2), (9, 9), (-8, -9)]"
   ]
  },
  {
   "cell_type": "markdown",
   "metadata": {},
   "source": [
    "#### 1. Robin Hood is famous for hitting an arrow with another arrow. Find the coordinates of the points where an arrow hits another arrow."
   ]
  },
  {
   "cell_type": "code",
   "execution_count": 2,
   "metadata": {},
   "outputs": [
    {
     "name": "stdout",
     "output_type": "stream",
     "text": [
      "The coordinates of the points where an arrow hits another arrow are [(4, 5), (5, 7), (2, 2), (-3, 2)]\n"
     ]
    }
   ],
   "source": [
    "repeated_arrows = []\n",
    "a = 1\n",
    "\n",
    "for i in points:\n",
    "    if i in points[a:]:\n",
    "        if i not in repeated_arrows:\n",
    "            repeated_arrows.append(i)\n",
    "        else:\n",
    "            \"\"\n",
    "    else:\n",
    "        \"\"\n",
    "    a +=1\n",
    "\n",
    "print(\"The coordinates of the points where an arrow hits another arrow are\", repeated_arrows)\n",
    "    "
   ]
  },
  {
   "cell_type": "markdown",
   "metadata": {},
   "source": [
    "#### 2. Calculate how many arrows have fallen in each quadrant. \n",
    "**Note**: the arrows that fall in the axis (x=0 or y=0) don't belong to any quadrant."
   ]
  },
  {
   "cell_type": "code",
   "execution_count": 3,
   "metadata": {},
   "outputs": [
    {
     "name": "stdout",
     "output_type": "stream",
     "text": [
      "Quadrant 1 has 10 arrows\n",
      "Quadrant 2 has 6 arrows\n",
      "Quadrant 3 has 2 arrows\n",
      "Quadrant 4 has 2 arrows\n",
      "There are 2 arrows in coordinate x axis that does not belong to a specific quadrant\n"
     ]
    }
   ],
   "source": [
    "Q1 = 0\n",
    "Q2 = 0\n",
    "Q3 = 0\n",
    "Q4 = 0\n",
    "no_Q = 0\n",
    "#consider that any coordinate with an element = 0 has no quadrant\n",
    "\n",
    "a = 0\n",
    "\n",
    "for i in points:\n",
    "    if (points[a][0] > 0) & (points [a][1] > 0):\n",
    "        Q1 += 1\n",
    "    elif (points[a][0] < 0) & (points [a][1] > 0):\n",
    "        Q2 += 1\n",
    "    elif (points[a][0] < 0) & (points [a][1] < 0):\n",
    "        Q3 += 1\n",
    "    elif (points[a][0] > 0) & (points [a][1] < 0):\n",
    "        Q4 += 1\n",
    "    else:\n",
    "        no_Q += 1\n",
    "    a +=1\n",
    "\n",
    "print(\"Quadrant 1 has\", Q1, \"arrows\")\n",
    "print(\"Quadrant 2 has\", Q2, \"arrows\")\n",
    "print(\"Quadrant 3 has\", Q3, \"arrows\")\n",
    "print(\"Quadrant 4 has\", Q4, \"arrows\")\n",
    "print(\"There are\", no_Q, \"arrows in coordinate x axis that does not belong to a specific quadrant\")"
   ]
  },
  {
   "cell_type": "markdown",
   "metadata": {},
   "source": [
    "#### 3. Find the point closest to the center. Calculate its distance to the center. \n",
    "Take into account that there might be more than one point at the minimum distance to the center.\n",
    "\n",
    "**Hint**: Use the Euclidean distance. You can find more information about it [here](https://en.wikipedia.org/wiki/Euclidean_distance).  \n",
    "**Hint**: Defining a function that calculates the distance to the center can help."
   ]
  },
  {
   "cell_type": "code",
   "execution_count": 4,
   "metadata": {},
   "outputs": [
    {
     "name": "stdout",
     "output_type": "stream",
     "text": [
      "Minimum distance is 2.0\n",
      "Arrow 2 is the closest. Its point is (0, 2)\n",
      "Arrow 12 is the closest. Its point is (0, -2)\n"
     ]
    }
   ],
   "source": [
    "sq_arrows_x = []\n",
    "sq_arrows_y = []\n",
    "distance_arrows = []\n",
    "a=0\n",
    "\n",
    "# I will divide the coordenates between coordenates x and coordenates y in two different list\n",
    "# I square al numbers to make them positive and them I calculate square root to go back to the initial number in positive. \n",
    "\n",
    "for i in points:\n",
    "    sq_arrows_x.append((points[a][0]**2)**.5)\n",
    "    sq_arrows_y.append((points[a][1]**2)**.5)\n",
    "    a +=1\n",
    "\n",
    "# I calculate the distance by using the formula with the elements of each list, and I include the distance in a new list so...\n",
    "#...I can easily find the minimum. I also include the number of arrow so I can use it as an index to obteain from list...\n",
    "#... points the point of the arrow.\n",
    "\n",
    "for i, j in zip(sq_arrows_x, sq_arrows_y):\n",
    "    distance_arrows.append(((i-0)**2 + (j-0)**2)**.5)\n",
    "    \n",
    "minimum_distance = min(distance_arrows)\n",
    "print(\"Minimum distance is\" , minimum_distance)\n",
    "\n",
    "arrow = 1\n",
    "for i in distance_arrows:\n",
    "    if i == minimum_distance:\n",
    "        print(\"Arrow\", arrow, \"is the closest. Its point is\", points[arrow-1])\n",
    "    \n",
    "    else:\n",
    "        \"\"\n",
    "    arrow += 1\n"
   ]
  },
  {
   "cell_type": "markdown",
   "metadata": {},
   "source": [
    "#### 4. If the archery target has a radius of 9, calculate the number of arrows that won't hit the target. \n",
    "**Hint**: Use the function created in step 3. "
   ]
  },
  {
   "cell_type": "code",
   "execution_count": 8,
   "metadata": {},
   "outputs": [
    {
     "name": "stdout",
     "output_type": "stream",
     "text": [
      "Arrow 20 in point (9, 9) does not hit the target.\n",
      "Arrow 21 in point (-8, -9) does not hit the target.\n",
      "If radius is 9, 2 arrows won't hit the target\n"
     ]
    }
   ],
   "source": [
    "# I have all distances in the list distance_arrows\n",
    "# if radius is 9, its distance is 9. Therefore, all arrows further than 81 will be out oof the target\n",
    "\n",
    "arrows_no_target = 0\n",
    "a = 0\n",
    "b = 0\n",
    "\n",
    "for i in distance_arrows:\n",
    "    if i > 9:\n",
    "        arrows_no_target +=1\n",
    "        print(\"Arrow\", b, \"in point\", points[a], \"does not hit the target.\" )\n",
    "    else:\n",
    "        \"\"\n",
    "    a+=1\n",
    "    b+=1\n",
    "    \n",
    "print(\"If radius is 9,\", arrows_no_target, \"arrows won't hit the target\")\n"
   ]
  }
 ],
 "metadata": {
  "kernelspec": {
   "display_name": "Python 3",
   "language": "python",
   "name": "python3"
  },
  "language_info": {
   "codemirror_mode": {
    "name": "ipython",
    "version": 3
   },
   "file_extension": ".py",
   "mimetype": "text/x-python",
   "name": "python",
   "nbconvert_exporter": "python",
   "pygments_lexer": "ipython3",
   "version": "3.9.0"
  }
 },
 "nbformat": 4,
 "nbformat_minor": 2
}
